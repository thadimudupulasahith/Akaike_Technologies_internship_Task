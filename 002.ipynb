{
  "nbformat": 4,
  "nbformat_minor": 0,
  "metadata": {
    "colab": {
      "provenance": []
    },
    "kernelspec": {
      "name": "python3",
      "display_name": "Python 3"
    },
    "language_info": {
      "name": "python"
    }
  },
  "cells": [
    {
      "cell_type": "code",
      "execution_count": 2,
      "metadata": {
        "id": "lZZvnUB5M5DP"
      },
      "outputs": [],
      "source": [
        "#import necessary libraries\n",
        "import pandas as pd\n",
        "import numpy as np\n",
        "import seaborn as sns\n",
        "import matplotlib.pyplot as plt"
      ]
    },
    {
      "cell_type": "code",
      "source": [
        "#To ignore warnings\n",
        "import warnings\n",
        "warnings.filterwarnings(\"ignore\")"
      ],
      "metadata": {
        "id": "TVCaYPmU2rqq"
      },
      "execution_count": 17,
      "outputs": []
    },
    {
      "cell_type": "code",
      "source": [
        "# reading train data\n",
        "train_data=pd.read_parquet(\"/content/train.parquet\")"
      ],
      "metadata": {
        "id": "tGfnd8U_N8Mn"
      },
      "execution_count": 18,
      "outputs": []
    },
    {
      "cell_type": "code",
      "source": [
        "## print first 5 rows\n",
        "train_data.head()"
      ],
      "metadata": {
        "colab": {
          "base_uri": "https://localhost:8080/",
          "height": 206
        },
        "id": "TIc47bRyOmdB",
        "outputId": "4facd972-09b4-4b7d-add7-c462a272f698"
      },
      "execution_count": 19,
      "outputs": [
        {
          "output_type": "execute_result",
          "data": {
            "text/plain": [
              "                            Patient-Uid       Date           Incident\n",
              "0  a0db1e73-1c7c-11ec-ae39-16262ee38c7f 2019-03-09  PRIMARY_DIAGNOSIS\n",
              "1  a0dc93f2-1c7c-11ec-9cd2-16262ee38c7f 2015-05-16  PRIMARY_DIAGNOSIS\n",
              "3  a0dc94c6-1c7c-11ec-a3a0-16262ee38c7f 2018-01-30     SYMPTOM_TYPE_0\n",
              "4  a0dc950b-1c7c-11ec-b6ec-16262ee38c7f 2015-04-22        DRUG_TYPE_0\n",
              "8  a0dc9543-1c7c-11ec-bb63-16262ee38c7f 2016-06-18        DRUG_TYPE_1"
            ],
            "text/html": [
              "\n",
              "  <div id=\"df-07fe1711-d5b8-41a4-8dc0-2eff13828bec\" class=\"colab-df-container\">\n",
              "    <div>\n",
              "<style scoped>\n",
              "    .dataframe tbody tr th:only-of-type {\n",
              "        vertical-align: middle;\n",
              "    }\n",
              "\n",
              "    .dataframe tbody tr th {\n",
              "        vertical-align: top;\n",
              "    }\n",
              "\n",
              "    .dataframe thead th {\n",
              "        text-align: right;\n",
              "    }\n",
              "</style>\n",
              "<table border=\"1\" class=\"dataframe\">\n",
              "  <thead>\n",
              "    <tr style=\"text-align: right;\">\n",
              "      <th></th>\n",
              "      <th>Patient-Uid</th>\n",
              "      <th>Date</th>\n",
              "      <th>Incident</th>\n",
              "    </tr>\n",
              "  </thead>\n",
              "  <tbody>\n",
              "    <tr>\n",
              "      <th>0</th>\n",
              "      <td>a0db1e73-1c7c-11ec-ae39-16262ee38c7f</td>\n",
              "      <td>2019-03-09</td>\n",
              "      <td>PRIMARY_DIAGNOSIS</td>\n",
              "    </tr>\n",
              "    <tr>\n",
              "      <th>1</th>\n",
              "      <td>a0dc93f2-1c7c-11ec-9cd2-16262ee38c7f</td>\n",
              "      <td>2015-05-16</td>\n",
              "      <td>PRIMARY_DIAGNOSIS</td>\n",
              "    </tr>\n",
              "    <tr>\n",
              "      <th>3</th>\n",
              "      <td>a0dc94c6-1c7c-11ec-a3a0-16262ee38c7f</td>\n",
              "      <td>2018-01-30</td>\n",
              "      <td>SYMPTOM_TYPE_0</td>\n",
              "    </tr>\n",
              "    <tr>\n",
              "      <th>4</th>\n",
              "      <td>a0dc950b-1c7c-11ec-b6ec-16262ee38c7f</td>\n",
              "      <td>2015-04-22</td>\n",
              "      <td>DRUG_TYPE_0</td>\n",
              "    </tr>\n",
              "    <tr>\n",
              "      <th>8</th>\n",
              "      <td>a0dc9543-1c7c-11ec-bb63-16262ee38c7f</td>\n",
              "      <td>2016-06-18</td>\n",
              "      <td>DRUG_TYPE_1</td>\n",
              "    </tr>\n",
              "  </tbody>\n",
              "</table>\n",
              "</div>\n",
              "    <div class=\"colab-df-buttons\">\n",
              "\n",
              "  <div class=\"colab-df-container\">\n",
              "    <button class=\"colab-df-convert\" onclick=\"convertToInteractive('df-07fe1711-d5b8-41a4-8dc0-2eff13828bec')\"\n",
              "            title=\"Convert this dataframe to an interactive table.\"\n",
              "            style=\"display:none;\">\n",
              "\n",
              "  <svg xmlns=\"http://www.w3.org/2000/svg\" height=\"24px\" viewBox=\"0 -960 960 960\">\n",
              "    <path d=\"M120-120v-720h720v720H120Zm60-500h600v-160H180v160Zm220 220h160v-160H400v160Zm0 220h160v-160H400v160ZM180-400h160v-160H180v160Zm440 0h160v-160H620v160ZM180-180h160v-160H180v160Zm440 0h160v-160H620v160Z\"/>\n",
              "  </svg>\n",
              "    </button>\n",
              "\n",
              "  <style>\n",
              "    .colab-df-container {\n",
              "      display:flex;\n",
              "      gap: 12px;\n",
              "    }\n",
              "\n",
              "    .colab-df-convert {\n",
              "      background-color: #E8F0FE;\n",
              "      border: none;\n",
              "      border-radius: 50%;\n",
              "      cursor: pointer;\n",
              "      display: none;\n",
              "      fill: #1967D2;\n",
              "      height: 32px;\n",
              "      padding: 0 0 0 0;\n",
              "      width: 32px;\n",
              "    }\n",
              "\n",
              "    .colab-df-convert:hover {\n",
              "      background-color: #E2EBFA;\n",
              "      box-shadow: 0px 1px 2px rgba(60, 64, 67, 0.3), 0px 1px 3px 1px rgba(60, 64, 67, 0.15);\n",
              "      fill: #174EA6;\n",
              "    }\n",
              "\n",
              "    .colab-df-buttons div {\n",
              "      margin-bottom: 4px;\n",
              "    }\n",
              "\n",
              "    [theme=dark] .colab-df-convert {\n",
              "      background-color: #3B4455;\n",
              "      fill: #D2E3FC;\n",
              "    }\n",
              "\n",
              "    [theme=dark] .colab-df-convert:hover {\n",
              "      background-color: #434B5C;\n",
              "      box-shadow: 0px 1px 3px 1px rgba(0, 0, 0, 0.15);\n",
              "      filter: drop-shadow(0px 1px 2px rgba(0, 0, 0, 0.3));\n",
              "      fill: #FFFFFF;\n",
              "    }\n",
              "  </style>\n",
              "\n",
              "    <script>\n",
              "      const buttonEl =\n",
              "        document.querySelector('#df-07fe1711-d5b8-41a4-8dc0-2eff13828bec button.colab-df-convert');\n",
              "      buttonEl.style.display =\n",
              "        google.colab.kernel.accessAllowed ? 'block' : 'none';\n",
              "\n",
              "      async function convertToInteractive(key) {\n",
              "        const element = document.querySelector('#df-07fe1711-d5b8-41a4-8dc0-2eff13828bec');\n",
              "        const dataTable =\n",
              "          await google.colab.kernel.invokeFunction('convertToInteractive',\n",
              "                                                    [key], {});\n",
              "        if (!dataTable) return;\n",
              "\n",
              "        const docLinkHtml = 'Like what you see? Visit the ' +\n",
              "          '<a target=\"_blank\" href=https://colab.research.google.com/notebooks/data_table.ipynb>data table notebook</a>'\n",
              "          + ' to learn more about interactive tables.';\n",
              "        element.innerHTML = '';\n",
              "        dataTable['output_type'] = 'display_data';\n",
              "        await google.colab.output.renderOutput(dataTable, element);\n",
              "        const docLink = document.createElement('div');\n",
              "        docLink.innerHTML = docLinkHtml;\n",
              "        element.appendChild(docLink);\n",
              "      }\n",
              "    </script>\n",
              "  </div>\n",
              "\n",
              "\n",
              "<div id=\"df-a1b6344a-2c77-40ce-9d40-b6f011e303dd\">\n",
              "  <button class=\"colab-df-quickchart\" onclick=\"quickchart('df-a1b6344a-2c77-40ce-9d40-b6f011e303dd')\"\n",
              "            title=\"Suggest charts.\"\n",
              "            style=\"display:none;\">\n",
              "\n",
              "<svg xmlns=\"http://www.w3.org/2000/svg\" height=\"24px\"viewBox=\"0 0 24 24\"\n",
              "     width=\"24px\">\n",
              "    <g>\n",
              "        <path d=\"M19 3H5c-1.1 0-2 .9-2 2v14c0 1.1.9 2 2 2h14c1.1 0 2-.9 2-2V5c0-1.1-.9-2-2-2zM9 17H7v-7h2v7zm4 0h-2V7h2v10zm4 0h-2v-4h2v4z\"/>\n",
              "    </g>\n",
              "</svg>\n",
              "  </button>\n",
              "\n",
              "<style>\n",
              "  .colab-df-quickchart {\n",
              "      --bg-color: #E8F0FE;\n",
              "      --fill-color: #1967D2;\n",
              "      --hover-bg-color: #E2EBFA;\n",
              "      --hover-fill-color: #174EA6;\n",
              "      --disabled-fill-color: #AAA;\n",
              "      --disabled-bg-color: #DDD;\n",
              "  }\n",
              "\n",
              "  [theme=dark] .colab-df-quickchart {\n",
              "      --bg-color: #3B4455;\n",
              "      --fill-color: #D2E3FC;\n",
              "      --hover-bg-color: #434B5C;\n",
              "      --hover-fill-color: #FFFFFF;\n",
              "      --disabled-bg-color: #3B4455;\n",
              "      --disabled-fill-color: #666;\n",
              "  }\n",
              "\n",
              "  .colab-df-quickchart {\n",
              "    background-color: var(--bg-color);\n",
              "    border: none;\n",
              "    border-radius: 50%;\n",
              "    cursor: pointer;\n",
              "    display: none;\n",
              "    fill: var(--fill-color);\n",
              "    height: 32px;\n",
              "    padding: 0;\n",
              "    width: 32px;\n",
              "  }\n",
              "\n",
              "  .colab-df-quickchart:hover {\n",
              "    background-color: var(--hover-bg-color);\n",
              "    box-shadow: 0 1px 2px rgba(60, 64, 67, 0.3), 0 1px 3px 1px rgba(60, 64, 67, 0.15);\n",
              "    fill: var(--button-hover-fill-color);\n",
              "  }\n",
              "\n",
              "  .colab-df-quickchart-complete:disabled,\n",
              "  .colab-df-quickchart-complete:disabled:hover {\n",
              "    background-color: var(--disabled-bg-color);\n",
              "    fill: var(--disabled-fill-color);\n",
              "    box-shadow: none;\n",
              "  }\n",
              "\n",
              "  .colab-df-spinner {\n",
              "    border: 2px solid var(--fill-color);\n",
              "    border-color: transparent;\n",
              "    border-bottom-color: var(--fill-color);\n",
              "    animation:\n",
              "      spin 1s steps(1) infinite;\n",
              "  }\n",
              "\n",
              "  @keyframes spin {\n",
              "    0% {\n",
              "      border-color: transparent;\n",
              "      border-bottom-color: var(--fill-color);\n",
              "      border-left-color: var(--fill-color);\n",
              "    }\n",
              "    20% {\n",
              "      border-color: transparent;\n",
              "      border-left-color: var(--fill-color);\n",
              "      border-top-color: var(--fill-color);\n",
              "    }\n",
              "    30% {\n",
              "      border-color: transparent;\n",
              "      border-left-color: var(--fill-color);\n",
              "      border-top-color: var(--fill-color);\n",
              "      border-right-color: var(--fill-color);\n",
              "    }\n",
              "    40% {\n",
              "      border-color: transparent;\n",
              "      border-right-color: var(--fill-color);\n",
              "      border-top-color: var(--fill-color);\n",
              "    }\n",
              "    60% {\n",
              "      border-color: transparent;\n",
              "      border-right-color: var(--fill-color);\n",
              "    }\n",
              "    80% {\n",
              "      border-color: transparent;\n",
              "      border-right-color: var(--fill-color);\n",
              "      border-bottom-color: var(--fill-color);\n",
              "    }\n",
              "    90% {\n",
              "      border-color: transparent;\n",
              "      border-bottom-color: var(--fill-color);\n",
              "    }\n",
              "  }\n",
              "</style>\n",
              "\n",
              "  <script>\n",
              "    async function quickchart(key) {\n",
              "      const quickchartButtonEl =\n",
              "        document.querySelector('#' + key + ' button');\n",
              "      quickchartButtonEl.disabled = true;  // To prevent multiple clicks.\n",
              "      quickchartButtonEl.classList.add('colab-df-spinner');\n",
              "      try {\n",
              "        const charts = await google.colab.kernel.invokeFunction(\n",
              "            'suggestCharts', [key], {});\n",
              "      } catch (error) {\n",
              "        console.error('Error during call to suggestCharts:', error);\n",
              "      }\n",
              "      quickchartButtonEl.classList.remove('colab-df-spinner');\n",
              "      quickchartButtonEl.classList.add('colab-df-quickchart-complete');\n",
              "    }\n",
              "    (() => {\n",
              "      let quickchartButtonEl =\n",
              "        document.querySelector('#df-a1b6344a-2c77-40ce-9d40-b6f011e303dd button');\n",
              "      quickchartButtonEl.style.display =\n",
              "        google.colab.kernel.accessAllowed ? 'block' : 'none';\n",
              "    })();\n",
              "  </script>\n",
              "</div>\n",
              "    </div>\n",
              "  </div>\n"
            ]
          },
          "metadata": {},
          "execution_count": 19
        }
      ]
    },
    {
      "cell_type": "code",
      "source": [
        "#dtypes tells us \"data types\" for each column\n",
        "train_data.dtypes"
      ],
      "metadata": {
        "colab": {
          "base_uri": "https://localhost:8080/"
        },
        "id": "JlsodGI0P6dI",
        "outputId": "3cf58736-4d5b-40fd-8434-6be86987fd8d"
      },
      "execution_count": 5,
      "outputs": [
        {
          "output_type": "execute_result",
          "data": {
            "text/plain": [
              "Patient-Uid            object\n",
              "Date           datetime64[ns]\n",
              "Incident               object\n",
              "dtype: object"
            ]
          },
          "metadata": {},
          "execution_count": 5
        }
      ]
    },
    {
      "cell_type": "code",
      "source": [
        "train_data['Incident'].unique()"
      ],
      "metadata": {
        "colab": {
          "base_uri": "https://localhost:8080/"
        },
        "id": "zSR_dMRdOx3E",
        "outputId": "a814429e-7a72-4eb6-858a-17e29064155b"
      },
      "execution_count": 6,
      "outputs": [
        {
          "output_type": "execute_result",
          "data": {
            "text/plain": [
              "array(['PRIMARY_DIAGNOSIS', 'SYMPTOM_TYPE_0', 'DRUG_TYPE_0',\n",
              "       'DRUG_TYPE_1', 'DRUG_TYPE_2', 'TEST_TYPE_0', 'DRUG_TYPE_3',\n",
              "       'DRUG_TYPE_4', 'DRUG_TYPE_5', 'DRUG_TYPE_6', 'DRUG_TYPE_8',\n",
              "       'DRUG_TYPE_7', 'SYMPTOM_TYPE_1', 'DRUG_TYPE_10', 'SYMPTOM_TYPE_29',\n",
              "       'SYMPTOM_TYPE_2', 'DRUG_TYPE_11', 'DRUG_TYPE_9', 'DRUG_TYPE_13',\n",
              "       'SYMPTOM_TYPE_5', 'TEST_TYPE_1', 'SYMPTOM_TYPE_6', 'TEST_TYPE_2',\n",
              "       'SYMPTOM_TYPE_3', 'SYMPTOM_TYPE_8', 'DRUG_TYPE_14', 'DRUG_TYPE_12',\n",
              "       'SYMPTOM_TYPE_9', 'SYMPTOM_TYPE_10', 'SYMPTOM_TYPE_7',\n",
              "       'SYMPTOM_TYPE_11', 'TEST_TYPE_3', 'DRUG_TYPE_15', 'SYMPTOM_TYPE_4',\n",
              "       'SYMPTOM_TYPE_14', 'SYMPTOM_TYPE_13', 'SYMPTOM_TYPE_16',\n",
              "       'SYMPTOM_TYPE_17', 'SYMPTOM_TYPE_15', 'SYMPTOM_TYPE_18',\n",
              "       'SYMPTOM_TYPE_12', 'SYMPTOM_TYPE_20', 'SYMPTOM_TYPE_21',\n",
              "       'DRUG_TYPE_17', 'SYMPTOM_TYPE_22', 'TEST_TYPE_4',\n",
              "       'SYMPTOM_TYPE_23', 'DRUG_TYPE_16', 'TEST_TYPE_5',\n",
              "       'SYMPTOM_TYPE_19', 'SYMPTOM_TYPE_24', 'SYMPTOM_TYPE_25',\n",
              "       'SYMPTOM_TYPE_26', 'SYMPTOM_TYPE_27', 'DRUG_TYPE_18',\n",
              "       'SYMPTOM_TYPE_28', 'TARGET DRUG'], dtype=object)"
            ]
          },
          "metadata": {},
          "execution_count": 6
        }
      ]
    },
    {
      "cell_type": "code",
      "source": [
        "#The number of occurrences for a specific incident\n",
        "train_data.Incident.value_counts()"
      ],
      "metadata": {
        "colab": {
          "base_uri": "https://localhost:8080/"
        },
        "id": "C08-GytdO5wJ",
        "outputId": "6760c4c7-f118-49df-8920-4b2a3280a4b3"
      },
      "execution_count": 7,
      "outputs": [
        {
          "output_type": "execute_result",
          "data": {
            "text/plain": [
              "DRUG_TYPE_6          561934\n",
              "DRUG_TYPE_1          484666\n",
              "PRIMARY_DIAGNOSIS    431902\n",
              "DRUG_TYPE_0          300005\n",
              "DRUG_TYPE_7          258782\n",
              "DRUG_TYPE_2          256841\n",
              "DRUG_TYPE_8          160066\n",
              "DRUG_TYPE_3          127676\n",
              "TEST_TYPE_1           96810\n",
              "TARGET DRUG           67218\n",
              "DRUG_TYPE_9           66894\n",
              "DRUG_TYPE_5           57510\n",
              "DRUG_TYPE_11          48118\n",
              "SYMPTOM_TYPE_0        46078\n",
              "SYMPTOM_TYPE_6        32066\n",
              "TEST_TYPE_0           27570\n",
              "SYMPTOM_TYPE_7        22019\n",
              "DRUG_TYPE_10          20925\n",
              "DRUG_TYPE_14          17306\n",
              "DRUG_TYPE_13          12372\n",
              "DRUG_TYPE_12           9551\n",
              "SYMPTOM_TYPE_14        8927\n",
              "SYMPTOM_TYPE_1         8608\n",
              "SYMPTOM_TYPE_2         8168\n",
              "TEST_TYPE_3            8115\n",
              "SYMPTOM_TYPE_5         7583\n",
              "SYMPTOM_TYPE_8         7430\n",
              "TEST_TYPE_2            7021\n",
              "SYMPTOM_TYPE_15        6295\n",
              "SYMPTOM_TYPE_10        6005\n",
              "SYMPTOM_TYPE_29        5950\n",
              "SYMPTOM_TYPE_16        4940\n",
              "DRUG_TYPE_15           4906\n",
              "SYMPTOM_TYPE_9         4885\n",
              "DRUG_TYPE_4            4566\n",
              "SYMPTOM_TYPE_4         4115\n",
              "SYMPTOM_TYPE_3         3931\n",
              "SYMPTOM_TYPE_12        2685\n",
              "SYMPTOM_TYPE_11        2483\n",
              "SYMPTOM_TYPE_17        2090\n",
              "SYMPTOM_TYPE_13        1541\n",
              "DRUG_TYPE_16           1145\n",
              "TEST_TYPE_4            1108\n",
              "SYMPTOM_TYPE_18         530\n",
              "SYMPTOM_TYPE_21         363\n",
              "SYMPTOM_TYPE_22         285\n",
              "SYMPTOM_TYPE_19         219\n",
              "DRUG_TYPE_17            214\n",
              "TEST_TYPE_5             137\n",
              "SYMPTOM_TYPE_24          97\n",
              "SYMPTOM_TYPE_26          63\n",
              "SYMPTOM_TYPE_23          54\n",
              "SYMPTOM_TYPE_20          53\n",
              "SYMPTOM_TYPE_27          21\n",
              "SYMPTOM_TYPE_25          18\n",
              "SYMPTOM_TYPE_28           7\n",
              "DRUG_TYPE_18              1\n",
              "Name: Incident, dtype: int64"
            ]
          },
          "metadata": {},
          "execution_count": 7
        }
      ]
    },
    {
      "cell_type": "code",
      "source": [
        "# taking users who are all taking target drug\n",
        "target_data = train_data[train_data['Incident'] == 'TARGET DRUG']"
      ],
      "metadata": {
        "id": "MjMHoENcRV0R"
      },
      "execution_count": 8,
      "outputs": []
    },
    {
      "cell_type": "code",
      "source": [
        "\n",
        "# Calculate dropoff rate by month\n",
        "target_data['Date'] = pd.to_datetime(target_data['Date'])\n",
        "target_data['Month'] = target_data['Date'].dt.month\n",
        "dropoff_rates = target_data.groupby('Month')['Patient-Uid'].nunique().diff().fillna(0)"
      ],
      "metadata": {
        "id": "wE8DyXIrRanR"
      },
      "execution_count": 20,
      "outputs": []
    },
    {
      "cell_type": "code",
      "source": [
        "# Visualize dropoff rates\n",
        "import matplotlib.pyplot as plt\n",
        "\n",
        "plt.figure(figsize=(10, 6))\n",
        "dropoff_rates.plot(kind='bar', color='skyblue')\n",
        "plt.title('Drop-off Rate for Target Drug')\n",
        "plt.xlabel('Month')\n",
        "plt.ylabel('Drop-off Rate')\n",
        "plt.show()"
      ],
      "metadata": {
        "colab": {
          "base_uri": "https://localhost:8080/",
          "height": 568
        },
        "id": "dpxtRdVXRx0C",
        "outputId": "4d675c57-835a-481e-f32d-6b22ee298c95"
      },
      "execution_count": 21,
      "outputs": [
        {
          "output_type": "display_data",
          "data": {
            "text/plain": [
              "<Figure size 1000x600 with 1 Axes>"
            ],
            "image/png": "[encoded data removed]"
          },
          "metadata": {}
        }
      ]
    },
    {
      "cell_type": "code",
      "source": [
        "# Assuming dropoff_rates is a pandas Series or DataFrame\n",
        "mean_dropoff_rate = dropoff_rates.mean()\n",
        "median_dropoff_rate = dropoff_rates.median()\n",
        "max_dropoff_rate = dropoff_rates.max()\n",
        "min_dropoff_rate = dropoff_rates.min()\n",
        "std_dev_dropoff_rate = dropoff_rates.std()\n",
        "\n",
        "print(f\"Mean Drop-off Rate: {mean_dropoff_rate}\")\n",
        "print(f\"Median Drop-off Rate: {median_dropoff_rate}\")\n",
        "print(f\"Maximum Drop-off Rate: {max_dropoff_rate}\")\n",
        "print(f\"Minimum Drop-off Rate: {min_dropoff_rate}\")\n",
        "print(f\"Standard Deviation of Drop-off Rate: {std_dev_dropoff_rate}\")\n"
      ],
      "metadata": {
        "colab": {
          "base_uri": "https://localhost:8080/"
        },
        "id": "2GggGLPCr3Xl",
        "outputId": "b4c80d22-85dc-408f-b357-0a7f82612c43"
      },
      "execution_count": 11,
      "outputs": [
        {
          "output_type": "stream",
          "name": "stdout",
          "text": [
            "Mean Drop-off Rate: -18.333333333333332\n",
            "Median Drop-off Rate: 62.5\n",
            "Maximum Drop-off Rate: 467.0\n",
            "Minimum Drop-off Rate: -1593.0\n",
            "Standard Deviation of Drop-off Rate: 541.1083462895785\n"
          ]
        }
      ]
    },
    {
      "cell_type": "markdown",
      "source": [
        "Mean Drop-off Rate: The average drop-off rate is approximately -18.33. This indicates, on average, a decrease in usage of the target drug over the observed period. The negative value suggests more discontinuations than new users.\n",
        "\n",
        "Median Drop-off Rate: The median drop-off rate is 62.5. This means that half of the observed drop-off rates fall below 62.5, and half fall above. This is useful in understanding the central tendency of the data.\n",
        "\n",
        "Maximum Drop-off Rate: The highest recorded drop-off rate is 467.0. This indicates a significant discontinuation of usage in that particular month.\n",
        "\n",
        "Minimum Drop-off Rate: The lowest recorded drop-off rate is -1593.0. A negative drop-off rate could potentially suggest an increase in usage, which may be unusual.\n",
        "\n",
        "Standard Deviation of Drop-off Rate: The standard deviation is approximately 541.11. This measures the amount of variation or dispersion in the drop-off rates. A high standard deviation indicates a wider range of values from the mean, suggesting a more variable pattern in drop-off rates."
      ],
      "metadata": {
        "id": "5UNNQ9-SuxRG"
      }
    },
    {
      "cell_type": "code",
      "source": [
        "# to analyze events driving dropp-off\n",
        "dropoff_reasons = train_data[train_data['Patient-Uid'].isin(target_data['Patient-Uid'])]\n",
        "dropoff_reasons = dropoff_reasons[dropoff_reasons['Date'] < dropoff_reasons.groupby('Patient-Uid')['Date'].transform('max')]\n",
        "dropoff_reasons = dropoff_reasons[dropoff_reasons['Incident'] != 'TARGET DRUG']\n"
      ],
      "metadata": {
        "id": "EfJls1lBSBmM"
      },
      "execution_count": 13,
      "outputs": []
    },
    {
      "cell_type": "code",
      "source": [
        "# to calculate the frequency of each event leading to drop-off\n",
        "event_freq = dropoff_reasons['Incident'].value_counts()"
      ],
      "metadata": {
        "id": "iHRyIiu8SJGx"
      },
      "execution_count": 14,
      "outputs": []
    },
    {
      "cell_type": "code",
      "source": [
        "import matplotlib.pyplot as plt\n",
        "\n",
        "# Create a bar chart for event frequency\n",
        "plt.figure(figsize=(10, 6))\n",
        "event_freq.plot(kind='bar', color='skyblue')\n",
        "plt.title('Frequency of Events Leading to Drop-offs')\n",
        "plt.xlabel('Event')\n",
        "plt.ylabel('Frequency')\n",
        "plt.xticks(rotation=90)\n",
        "plt.show()\n"
      ],
      "metadata": {
        "colab": {
          "base_uri": "https://localhost:8080/",
          "height": 695
        },
        "id": "3_hDMZKLScKh",
        "outputId": "be9505fe-e7b6-4094-f913-71b08539b7b3"
      },
      "execution_count": 15,
      "outputs": [
        {
          "output_type": "display_data",
          "data": {
            "text/plain": [
              "<Figure size 1000x600 with 1 Axes>"
            ],
            "image/png": "[encoded data removed]"
          },
          "metadata": {}
        }
      ]
    },
    {
      "cell_type": "code",
      "source": [
        "# Assuming event_freq is a pandas Series or DataFrame\n",
        "mean_frequency = event_freq.mean()\n",
        "median_frequency = event_freq.median()\n",
        "max_frequency = event_freq.max()\n",
        "min_frequency = event_freq.min()\n",
        "std_dev_frequency = event_freq.std()\n",
        "\n",
        "print(f\"Mean Event Frequency: {mean_frequency}\")\n",
        "print(f\"Median Event Frequency: {median_frequency}\")\n",
        "print(f\"Maximum Event Frequency: {max_frequency}\")\n",
        "print(f\"Minimum Event Frequency: {min_frequency}\")\n",
        "print(f\"Standard Deviation of Event Frequency: {std_dev_frequency}\")\n",
        "\n",
        "print(f\"\\nDescription:\")\n",
        "print(\"The bar chart displays the frequency of events leading to drop-offs. Each bar represents a different event, and its height indicates the frequency of occurrence.\")\n"
      ],
      "metadata": {
        "id": "J44AljVJWR6u",
        "colab": {
          "base_uri": "https://localhost:8080/"
        },
        "outputId": "f010fbaa-a4ba-4daa-9ccd-b46a43cbff72"
      },
      "execution_count": 16,
      "outputs": [
        {
          "output_type": "stream",
          "name": "stdout",
          "text": [
            "Mean Event Frequency: 24697.363636363636\n",
            "Median Event Frequency: 2886.0\n",
            "Maximum Event Frequency: 237455\n",
            "Minimum Event Frequency: 3\n",
            "Standard Deviation of Event Frequency: 52666.34898299533\n",
            "\n",
            "Description:\n",
            "The bar chart displays the frequency of events leading to drop-offs. Each bar represents a different event, and its height indicates the frequency of occurrence.\n"
          ]
        }
      ]
    },
    {
      "cell_type": "markdown",
      "source": [
        "if you have an event named \"Event A\" with a frequency of 10,000, it means that \"Event A\" occurred 10,000 times before a drop-off event in your dataset.\n",
        "\n",
        "Mean Event Frequency: The average frequency of events leading to drop-offs is approximately 24,697.36. This indicates, on average, how often events occur before a drop-off.\n",
        "\n",
        "Median Event Frequency: The middle value of the frequencies is 2,886. This means that half of the events occur more frequently than this value, and half occur less frequently.\n",
        "\n",
        "Maximum Event Frequency: The highest recorded frequency of an event leading to a drop-off is 237,455. This suggests that there are certain events that occur very frequently before drop-offs.\n",
        "\n",
        "Minimum Event Frequency: The lowest recorded frequency of an event leading to a drop-off is 3. This is the least number of times an event occurs before a drop-off.\n",
        "\n",
        "Standard Deviation of Event Frequency: The standard deviation is approximately 52,666.35. This measures the amount of variation or dispersion in the event frequencies. A high standard deviation indicates more variability."
      ],
      "metadata": {
        "id": "QxtbN5KUv2Hd"
      }
    },
    {
      "cell_type": "code",
      "source": [],
      "metadata": {
        "id": "si2AnAdPv2x1"
      },
      "execution_count": null,
      "outputs": []
    }
  ]
}